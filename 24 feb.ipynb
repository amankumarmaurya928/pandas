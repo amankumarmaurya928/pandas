{
 "cells": [
  {
   "cell_type": "code",
   "execution_count": 1,
   "id": "1b98d4f1-f744-41bf-afee-22a26536fe9d",
   "metadata": {},
   "outputs": [],
   "source": [
    "# Q1\n",
    "import pandas as pd\n",
    "# let df is a dataframe seeries\n",
    "df = pd.DataFrame(data= {\n",
    "'Name': ['Ck', 'Ron', 'Mat','Josh', 'Tim', 'SypherPK', 'Dew', 'Vin'],\n",
    "'Marks':[37, 91, 66, 42, 99, 81, 45, 71]\n",
    "})\n",
    "# 5 function with execution"
   ]
  },
  {
   "cell_type": "code",
   "execution_count": 2,
   "id": "520821a0-e475-4133-9175-6a4836d35ea1",
   "metadata": {},
   "outputs": [
    {
     "data": {
      "text/html": [
       "<div>\n",
       "<style scoped>\n",
       "    .dataframe tbody tr th:only-of-type {\n",
       "        vertical-align: middle;\n",
       "    }\n",
       "\n",
       "    .dataframe tbody tr th {\n",
       "        vertical-align: top;\n",
       "    }\n",
       "\n",
       "    .dataframe thead th {\n",
       "        text-align: right;\n",
       "    }\n",
       "</style>\n",
       "<table border=\"1\" class=\"dataframe\">\n",
       "  <thead>\n",
       "    <tr style=\"text-align: right;\">\n",
       "      <th></th>\n",
       "      <th>Name</th>\n",
       "      <th>Marks</th>\n",
       "    </tr>\n",
       "  </thead>\n",
       "  <tbody>\n",
       "    <tr>\n",
       "      <th>0</th>\n",
       "      <td>Ck</td>\n",
       "      <td>37</td>\n",
       "    </tr>\n",
       "    <tr>\n",
       "      <th>1</th>\n",
       "      <td>Ron</td>\n",
       "      <td>91</td>\n",
       "    </tr>\n",
       "    <tr>\n",
       "      <th>2</th>\n",
       "      <td>Mat</td>\n",
       "      <td>66</td>\n",
       "    </tr>\n",
       "    <tr>\n",
       "      <th>3</th>\n",
       "      <td>Josh</td>\n",
       "      <td>42</td>\n",
       "    </tr>\n",
       "    <tr>\n",
       "      <th>4</th>\n",
       "      <td>Tim</td>\n",
       "      <td>99</td>\n",
       "    </tr>\n",
       "  </tbody>\n",
       "</table>\n",
       "</div>"
      ],
      "text/plain": [
       "   Name  Marks\n",
       "0    Ck     37\n",
       "1   Ron     91\n",
       "2   Mat     66\n",
       "3  Josh     42\n",
       "4   Tim     99"
      ]
     },
     "execution_count": 2,
     "metadata": {},
     "output_type": "execute_result"
    }
   ],
   "source": [
    "df.head()"
   ]
  },
  {
   "cell_type": "code",
   "execution_count": 3,
   "id": "75b45aec-a811-4eb0-ad4e-f525f54e1311",
   "metadata": {},
   "outputs": [
    {
     "data": {
      "text/html": [
       "<div>\n",
       "<style scoped>\n",
       "    .dataframe tbody tr th:only-of-type {\n",
       "        vertical-align: middle;\n",
       "    }\n",
       "\n",
       "    .dataframe tbody tr th {\n",
       "        vertical-align: top;\n",
       "    }\n",
       "\n",
       "    .dataframe thead th {\n",
       "        text-align: right;\n",
       "    }\n",
       "</style>\n",
       "<table border=\"1\" class=\"dataframe\">\n",
       "  <thead>\n",
       "    <tr style=\"text-align: right;\">\n",
       "      <th></th>\n",
       "      <th>Name</th>\n",
       "      <th>Marks</th>\n",
       "    </tr>\n",
       "  </thead>\n",
       "  <tbody>\n",
       "    <tr>\n",
       "      <th>3</th>\n",
       "      <td>Josh</td>\n",
       "      <td>42</td>\n",
       "    </tr>\n",
       "    <tr>\n",
       "      <th>4</th>\n",
       "      <td>Tim</td>\n",
       "      <td>99</td>\n",
       "    </tr>\n",
       "    <tr>\n",
       "      <th>5</th>\n",
       "      <td>SypherPK</td>\n",
       "      <td>81</td>\n",
       "    </tr>\n",
       "    <tr>\n",
       "      <th>6</th>\n",
       "      <td>Dew</td>\n",
       "      <td>45</td>\n",
       "    </tr>\n",
       "    <tr>\n",
       "      <th>7</th>\n",
       "      <td>Vin</td>\n",
       "      <td>71</td>\n",
       "    </tr>\n",
       "  </tbody>\n",
       "</table>\n",
       "</div>"
      ],
      "text/plain": [
       "       Name  Marks\n",
       "3      Josh     42\n",
       "4       Tim     99\n",
       "5  SypherPK     81\n",
       "6       Dew     45\n",
       "7       Vin     71"
      ]
     },
     "execution_count": 3,
     "metadata": {},
     "output_type": "execute_result"
    }
   ],
   "source": [
    "df.tail()"
   ]
  },
  {
   "cell_type": "code",
   "execution_count": 4,
   "id": "56707f43-6d9f-465f-9ab1-beae63c41a83",
   "metadata": {},
   "outputs": [
    {
     "data": {
      "text/plain": [
       "Name      Marks\n",
       "Ck        37       1\n",
       "Dew       45       1\n",
       "Josh      42       1\n",
       "Mat       66       1\n",
       "Ron       91       1\n",
       "SypherPK  81       1\n",
       "Tim       99       1\n",
       "Vin       71       1\n",
       "dtype: int64"
      ]
     },
     "execution_count": 4,
     "metadata": {},
     "output_type": "execute_result"
    }
   ],
   "source": [
    "df.value_counts()"
   ]
  },
  {
   "cell_type": "code",
   "execution_count": 5,
   "id": "b4b9a610-ab5f-4f04-adfc-cf4332db496a",
   "metadata": {},
   "outputs": [
    {
     "data": {
      "text/html": [
       "<div>\n",
       "<style scoped>\n",
       "    .dataframe tbody tr th:only-of-type {\n",
       "        vertical-align: middle;\n",
       "    }\n",
       "\n",
       "    .dataframe tbody tr th {\n",
       "        vertical-align: top;\n",
       "    }\n",
       "\n",
       "    .dataframe thead th {\n",
       "        text-align: right;\n",
       "    }\n",
       "</style>\n",
       "<table border=\"1\" class=\"dataframe\">\n",
       "  <thead>\n",
       "    <tr style=\"text-align: right;\">\n",
       "      <th></th>\n",
       "      <th>Name</th>\n",
       "    </tr>\n",
       "  </thead>\n",
       "  <tbody>\n",
       "    <tr>\n",
       "      <th>0</th>\n",
       "      <td>Ck</td>\n",
       "    </tr>\n",
       "    <tr>\n",
       "      <th>1</th>\n",
       "      <td>Ron</td>\n",
       "    </tr>\n",
       "    <tr>\n",
       "      <th>2</th>\n",
       "      <td>Mat</td>\n",
       "    </tr>\n",
       "    <tr>\n",
       "      <th>3</th>\n",
       "      <td>Josh</td>\n",
       "    </tr>\n",
       "  </tbody>\n",
       "</table>\n",
       "</div>"
      ],
      "text/plain": [
       "   Name\n",
       "0    Ck\n",
       "1   Ron\n",
       "2   Mat\n",
       "3  Josh"
      ]
     },
     "execution_count": 5,
     "metadata": {},
     "output_type": "execute_result"
    }
   ],
   "source": [
    "df.loc[0:3, ['Name']]"
   ]
  },
  {
   "cell_type": "code",
   "execution_count": 6,
   "id": "437dbbd5-be72-4550-b5f5-81929bc026d4",
   "metadata": {},
   "outputs": [
    {
     "data": {
      "text/html": [
       "<div>\n",
       "<style scoped>\n",
       "    .dataframe tbody tr th:only-of-type {\n",
       "        vertical-align: middle;\n",
       "    }\n",
       "\n",
       "    .dataframe tbody tr th {\n",
       "        vertical-align: top;\n",
       "    }\n",
       "\n",
       "    .dataframe thead th {\n",
       "        text-align: right;\n",
       "    }\n",
       "</style>\n",
       "<table border=\"1\" class=\"dataframe\">\n",
       "  <thead>\n",
       "    <tr style=\"text-align: right;\">\n",
       "      <th></th>\n",
       "      <th>Name</th>\n",
       "      <th>Marks</th>\n",
       "    </tr>\n",
       "  </thead>\n",
       "  <tbody>\n",
       "    <tr>\n",
       "      <th>0</th>\n",
       "      <td>Ck</td>\n",
       "      <td>37</td>\n",
       "    </tr>\n",
       "    <tr>\n",
       "      <th>1</th>\n",
       "      <td>Ron</td>\n",
       "      <td>91</td>\n",
       "    </tr>\n",
       "    <tr>\n",
       "      <th>2</th>\n",
       "      <td>Mat</td>\n",
       "      <td>66</td>\n",
       "    </tr>\n",
       "  </tbody>\n",
       "</table>\n",
       "</div>"
      ],
      "text/plain": [
       "  Name  Marks\n",
       "0   Ck     37\n",
       "1  Ron     91\n",
       "2  Mat     66"
      ]
     },
     "execution_count": 6,
     "metadata": {},
     "output_type": "execute_result"
    }
   ],
   "source": [
    "df.iloc[0:3]"
   ]
  },
  {
   "cell_type": "code",
   "execution_count": 7,
   "id": "4f00121f-0173-4f9c-be5e-a53f44129355",
   "metadata": {},
   "outputs": [
    {
     "data": {
      "text/html": [
       "<div>\n",
       "<style scoped>\n",
       "    .dataframe tbody tr th:only-of-type {\n",
       "        vertical-align: middle;\n",
       "    }\n",
       "\n",
       "    .dataframe tbody tr th {\n",
       "        vertical-align: top;\n",
       "    }\n",
       "\n",
       "    .dataframe thead th {\n",
       "        text-align: right;\n",
       "    }\n",
       "</style>\n",
       "<table border=\"1\" class=\"dataframe\">\n",
       "  <thead>\n",
       "    <tr style=\"text-align: right;\">\n",
       "      <th></th>\n",
       "      <th>Marks</th>\n",
       "    </tr>\n",
       "  </thead>\n",
       "  <tbody>\n",
       "    <tr>\n",
       "      <th>count</th>\n",
       "      <td>8.000000</td>\n",
       "    </tr>\n",
       "    <tr>\n",
       "      <th>mean</th>\n",
       "      <td>66.500000</td>\n",
       "    </tr>\n",
       "    <tr>\n",
       "      <th>std</th>\n",
       "      <td>23.360528</td>\n",
       "    </tr>\n",
       "    <tr>\n",
       "      <th>min</th>\n",
       "      <td>37.000000</td>\n",
       "    </tr>\n",
       "    <tr>\n",
       "      <th>25%</th>\n",
       "      <td>44.250000</td>\n",
       "    </tr>\n",
       "    <tr>\n",
       "      <th>50%</th>\n",
       "      <td>68.500000</td>\n",
       "    </tr>\n",
       "    <tr>\n",
       "      <th>75%</th>\n",
       "      <td>83.500000</td>\n",
       "    </tr>\n",
       "    <tr>\n",
       "      <th>max</th>\n",
       "      <td>99.000000</td>\n",
       "    </tr>\n",
       "  </tbody>\n",
       "</table>\n",
       "</div>"
      ],
      "text/plain": [
       "           Marks\n",
       "count   8.000000\n",
       "mean   66.500000\n",
       "std    23.360528\n",
       "min    37.000000\n",
       "25%    44.250000\n",
       "50%    68.500000\n",
       "75%    83.500000\n",
       "max    99.000000"
      ]
     },
     "execution_count": 7,
     "metadata": {},
     "output_type": "execute_result"
    }
   ],
   "source": [
    "df.describe()"
   ]
  },
  {
   "cell_type": "code",
   "execution_count": 8,
   "id": "374dd6b0-8613-4f71-b22b-e689b2c8183b",
   "metadata": {},
   "outputs": [],
   "source": [
    "# Q2\n",
    "import pandas as pd\n",
    "df1 = pd.DataFrame(data={\"A\":['ak','sk','dk','er','qw','ad','df','jk','lp','hg'],\n",
    "                        \"B\":[10,12,11,15,18,19,16,17,18,23],\n",
    "                        \"C\":[5,7,6,11,12,14,11,12,12,15]\n",
    "                        })\n",
    "df2 =df1[1:11:2]"
   ]
  },
  {
   "cell_type": "code",
   "execution_count": 9,
   "id": "09a57c64-7d1d-4dd0-a1a2-e0efbfebb9fb",
   "metadata": {},
   "outputs": [
    {
     "data": {
      "text/html": [
       "<div>\n",
       "<style scoped>\n",
       "    .dataframe tbody tr th:only-of-type {\n",
       "        vertical-align: middle;\n",
       "    }\n",
       "\n",
       "    .dataframe tbody tr th {\n",
       "        vertical-align: top;\n",
       "    }\n",
       "\n",
       "    .dataframe thead th {\n",
       "        text-align: right;\n",
       "    }\n",
       "</style>\n",
       "<table border=\"1\" class=\"dataframe\">\n",
       "  <thead>\n",
       "    <tr style=\"text-align: right;\">\n",
       "      <th></th>\n",
       "      <th>A</th>\n",
       "      <th>B</th>\n",
       "      <th>C</th>\n",
       "    </tr>\n",
       "  </thead>\n",
       "  <tbody>\n",
       "    <tr>\n",
       "      <th>1</th>\n",
       "      <td>sk</td>\n",
       "      <td>12</td>\n",
       "      <td>7</td>\n",
       "    </tr>\n",
       "    <tr>\n",
       "      <th>3</th>\n",
       "      <td>er</td>\n",
       "      <td>15</td>\n",
       "      <td>11</td>\n",
       "    </tr>\n",
       "    <tr>\n",
       "      <th>5</th>\n",
       "      <td>ad</td>\n",
       "      <td>19</td>\n",
       "      <td>14</td>\n",
       "    </tr>\n",
       "    <tr>\n",
       "      <th>7</th>\n",
       "      <td>jk</td>\n",
       "      <td>17</td>\n",
       "      <td>12</td>\n",
       "    </tr>\n",
       "    <tr>\n",
       "      <th>9</th>\n",
       "      <td>hg</td>\n",
       "      <td>23</td>\n",
       "      <td>15</td>\n",
       "    </tr>\n",
       "  </tbody>\n",
       "</table>\n",
       "</div>"
      ],
      "text/plain": [
       "    A   B   C\n",
       "1  sk  12   7\n",
       "3  er  15  11\n",
       "5  ad  19  14\n",
       "7  jk  17  12\n",
       "9  hg  23  15"
      ]
     },
     "execution_count": 9,
     "metadata": {},
     "output_type": "execute_result"
    }
   ],
   "source": [
    "df2"
   ]
  },
  {
   "cell_type": "code",
   "execution_count": 10,
   "id": "f3c3307d-5d28-4741-91d2-d3786fe81796",
   "metadata": {},
   "outputs": [],
   "source": [
    "df3 = pd.DataFrame(df1, index=[1,3,5,7,9])"
   ]
  },
  {
   "cell_type": "code",
   "execution_count": 11,
   "id": "93fe5724-60de-4b76-8a40-2ce7f4d4cdd7",
   "metadata": {},
   "outputs": [
    {
     "data": {
      "text/html": [
       "<div>\n",
       "<style scoped>\n",
       "    .dataframe tbody tr th:only-of-type {\n",
       "        vertical-align: middle;\n",
       "    }\n",
       "\n",
       "    .dataframe tbody tr th {\n",
       "        vertical-align: top;\n",
       "    }\n",
       "\n",
       "    .dataframe thead th {\n",
       "        text-align: right;\n",
       "    }\n",
       "</style>\n",
       "<table border=\"1\" class=\"dataframe\">\n",
       "  <thead>\n",
       "    <tr style=\"text-align: right;\">\n",
       "      <th></th>\n",
       "      <th>A</th>\n",
       "      <th>B</th>\n",
       "      <th>C</th>\n",
       "    </tr>\n",
       "  </thead>\n",
       "  <tbody>\n",
       "    <tr>\n",
       "      <th>1</th>\n",
       "      <td>sk</td>\n",
       "      <td>12</td>\n",
       "      <td>7</td>\n",
       "    </tr>\n",
       "    <tr>\n",
       "      <th>3</th>\n",
       "      <td>er</td>\n",
       "      <td>15</td>\n",
       "      <td>11</td>\n",
       "    </tr>\n",
       "    <tr>\n",
       "      <th>5</th>\n",
       "      <td>ad</td>\n",
       "      <td>19</td>\n",
       "      <td>14</td>\n",
       "    </tr>\n",
       "    <tr>\n",
       "      <th>7</th>\n",
       "      <td>jk</td>\n",
       "      <td>17</td>\n",
       "      <td>12</td>\n",
       "    </tr>\n",
       "    <tr>\n",
       "      <th>9</th>\n",
       "      <td>hg</td>\n",
       "      <td>23</td>\n",
       "      <td>15</td>\n",
       "    </tr>\n",
       "  </tbody>\n",
       "</table>\n",
       "</div>"
      ],
      "text/plain": [
       "    A   B   C\n",
       "1  sk  12   7\n",
       "3  er  15  11\n",
       "5  ad  19  14\n",
       "7  jk  17  12\n",
       "9  hg  23  15"
      ]
     },
     "execution_count": 11,
     "metadata": {},
     "output_type": "execute_result"
    }
   ],
   "source": [
    "df3"
   ]
  },
  {
   "cell_type": "code",
   "execution_count": 12,
   "id": "bb242a3c-d74a-4cad-9edb-41df20b3ca09",
   "metadata": {},
   "outputs": [
    {
     "name": "stdout",
     "output_type": "stream",
     "text": [
      "   values\n",
      "0      10\n",
      "1      20\n",
      "2      30\n",
      "3      40\n",
      "4      50\n",
      "sum of first 3 values    60\n",
      "dtype: int64\n"
     ]
    }
   ],
   "source": [
    "# Q3\n",
    "import pandas as pd\n",
    "\n",
    "data = {'values' : [10, 20, 30, 40, 50]}\n",
    "\n",
    "df = pd.DataFrame(data)\n",
    "print(df)\n",
    "print(\"sum of first 3\",df[0:3].sum())"
   ]
  },
  {
   "cell_type": "code",
   "execution_count": 13,
   "id": "fac22de8-044b-4e5b-90fb-5c704f1de033",
   "metadata": {},
   "outputs": [
    {
     "name": "stdout",
     "output_type": "stream",
     "text": [
      "                  text  word_count\n",
      "0           Aman kumar           2\n",
      "1        Music by sonu           3\n",
      "2       Poetry of ravi           3\n",
      "3  Music present by ak           4\n",
      "4     Comedy with raju           3\n"
     ]
    }
   ],
   "source": [
    "# Q4\n",
    "import pandas as pd\n",
    "data1 = {'text': ['Aman kumar','Music by sonu', 'Poetry of ravi', 'Music present by ak', 'Comedy with raju']}\n",
    "df4= pd.DataFrame(data1)\n",
    "df4['word_count'] = df4['text'].str.split().str.len()\n",
    "print(df4)"
   ]
  },
  {
   "cell_type": "code",
   "execution_count": 14,
   "id": "63fe4bfb-2f7b-4417-a567-bcc2e23b67a0",
   "metadata": {},
   "outputs": [
    {
     "data": {
      "text/plain": [
       "'dataframe.size\\n   Return : Returns size of dataframe/series which is equivalent to total number of elements. That is rows x columns.\\n\\n   dataframe.shape\\n   Return : Returns tuple of shape (Rows, columns) of dataframe/series\\n'"
      ]
     },
     "execution_count": 14,
     "metadata": {},
     "output_type": "execute_result"
    }
   ],
   "source": [
    "# Q5\n",
    "'''dataframe.size\n",
    "   Return : Returns size of dataframe/series which is equivalent to total number of elements. That is rows x columns.\n",
    "\n",
    "   dataframe.shape\n",
    "   Return : Returns tuple of shape (Rows, columns) of dataframe/series\n",
    "'''\n"
   ]
  },
  {
   "cell_type": "code",
   "execution_count": 15,
   "id": "817c4d83-69bb-4d69-a90c-46066b09c629",
   "metadata": {},
   "outputs": [
    {
     "data": {
      "text/plain": [
       "\"read_excel() function\\n   We can use the pandas module read_excel() function to read the excel file data into a DataFrame object. \\n   If you look at an excel sheet, it's a two-dimensional table. The DataFrame object also represents a two-dimensional tabular data structure.\\n   \""
      ]
     },
     "execution_count": 15,
     "metadata": {},
     "output_type": "execute_result"
    }
   ],
   "source": [
    "# Q6\n",
    "# pandas function use to read an excel file\n",
    "'''read_excel() function\n",
    "   We can use the pandas module read_excel() function to read the excel file data into a DataFrame object. \n",
    "   If you look at an excel sheet, it's a two-dimensional table. The DataFrame object also represents a two-dimensional tabular data structure.\n",
    "   '''"
   ]
  },
  {
   "cell_type": "code",
   "execution_count": 16,
   "id": "793ef55f-6dfa-408c-877f-54d5b138318a",
   "metadata": {},
   "outputs": [
    {
     "name": "stdout",
     "output_type": "stream",
     "text": [
      "                  email  username\n",
      "0         abc@gmail.com       abc\n",
      "1  john.doe@example.com  john.doe\n",
      "2          ak@gmail.com        ak\n",
      "3         kkk@gmail.com       kkk\n",
      "4          aa@yahoo.com        aa\n"
     ]
    }
   ],
   "source": [
    "# Q7\n",
    "'''code to extract username for email '''\n",
    "\n",
    "\n",
    "import pandas as pd\n",
    "df5 = pd.DataFrame({'email':['abc@gmail.com','john.doe@example.com','ak@gmail.com','kkk@gmail.com','aa@yahoo.com']})\n",
    "\n",
    "df5['username'] = df5['email'].str.split('@').str[0]\n",
    "print (df5)\n",
    "\n",
    "\n",
    "# df['email'].str.split(@).str[0] for before @ and replace 0 to 1 for after @ \n",
    "# i mean if abc@gmail.com as example for extraction abc put df5['username'] as it above \n",
    "# And for extraction of gmail.com put 1 (on place of 0(zero)) in df5['username']"
   ]
  },
  {
   "cell_type": "code",
   "execution_count": 17,
   "id": "4ba69671-e71f-4f09-9438-dc74aa0ee15f",
   "metadata": {},
   "outputs": [
    {
     "name": "stdout",
     "output_type": "stream",
     "text": [
      "    A   B   C\n",
      "0   2  12  16\n",
      "1   5   3   5\n",
      "2   6  15   4\n",
      "3   4   6   8\n",
      "4   8  14   9\n",
      "5   7   6   4\n",
      "6   4   8   9\n",
      "7   6   5   8\n",
      "8   5   4   6\n",
      "9   6   8  13\n",
      "10  4   4   2\n",
      "11  5  13  16\n",
      "12  1  12   5\n",
      "13  5  15   4\n",
      "14  3   7   9\n",
      "15  4  14   8\n",
      "16  8   8   4\n",
      "17  6   9   9\n",
      "18  7   9   6\n",
      "19  4   7   4\n",
      "    A  B   C\n",
      "5   7  6   4\n",
      "7   6  5   8\n",
      "9   6  8  13\n",
      "16  8  8   4\n",
      "17  6  9   9\n",
      "18  7  9   6\n"
     ]
    }
   ],
   "source": [
    "# Q8\n",
    "'''code that contain A>5and B<10'''\n",
    "\n",
    "import pandas as pd\n",
    "\n",
    "df6= pd.DataFrame({'A':[2,5,6,4,8,7,4,6,5,6,4,5,1,5,3,4,8,6,7,4],\n",
    "                   'B':[12,3,15,6,14,6,8,5,4,8,4,13,12,15,7,14,8,9,9,7],\n",
    "                   'C':[16,5,4,8,9,4,9,8,6,13,2,16,5,4,9,8,4,9,6,4]\n",
    "                  })\n",
    "dff=df6[(df6['A']>5) & (df6['B']<10)]\n",
    "print(df6)\n",
    "print(dff)"
   ]
  },
  {
   "cell_type": "code",
   "execution_count": 18,
   "id": "2f8f288e-b1ae-4293-940a-4c3e309ad723",
   "metadata": {},
   "outputs": [
    {
     "name": "stdout",
     "output_type": "stream",
     "text": [
      "   values\n",
      "0      10\n",
      "1      20\n",
      "2      30\n",
      "3      40\n",
      "4      50\n",
      "mean values    25.0\n",
      "dtype: float64\n",
      "median values    25.0\n",
      "dtype: float64\n",
      "standard deviation values    12.909944\n",
      "dtype: float64\n"
     ]
    }
   ],
   "source": [
    "# Q9\n",
    " # to find mean , median and std\n",
    "    \n",
    "import pandas as pd\n",
    "\n",
    "data2 = {'values' : [10, 20, 30, 40, 50]}\n",
    "\n",
    "df7 = pd.DataFrame(data2)\n",
    "print(df7)\n",
    "print(\"mean\",df7[0:4].mean())\n",
    "print(\"median\",df7[0:4].median())\n",
    "print(\"standard deviation\",df7[0:4].std())"
   ]
  },
  {
   "cell_type": "code",
   "execution_count": 19,
   "id": "46a314f8-b3ec-4012-bddf-adeef6ca4c68",
   "metadata": {},
   "outputs": [
    {
     "name": "stdout",
     "output_type": "stream",
     "text": [
      "   Value        Date        MA\n",
      "0   6.11  1989-01-02       NaN\n",
      "1   6.08  1989-01-03       NaN\n",
      "2   6.11  1989-01-04       NaN\n",
      "3   6.15  1989-01-05       NaN\n",
      "4   6.25  1989-01-09       NaN\n",
      "5   6.24  1989-01-10       NaN\n",
      "6   6.26  1989-01-11  6.171429\n",
      "7   6.23  1989-01-12  6.188571\n",
      "8   6.28  1989-01-13  6.217143\n",
      "9   6.31  1989-01-16  6.245714\n"
     ]
    },
    {
     "name": "stderr",
     "output_type": "stream",
     "text": [
      "/tmp/ipykernel_7313/1843260377.py:6: FutureWarning: Dropping of nuisance columns in rolling operations is deprecated; in a future version this will raise TypeError. Select only valid columns before calling the operation. Dropped columns were Index(['Date'], dtype='object')\n",
      "  df8['MA'] = df8.rolling(window=7).mean()\n"
     ]
    }
   ],
   "source": [
    "# Q10\n",
    "import pandas as pd \n",
    "df8 = pd.DataFrame({'Value': [6.11,6.08,6.11,6.15,6.25,6.24,6.26,6.23,6.28,6.31],\n",
    "                    'Date':['1989-01-02','1989-01-03','1989-01-04','1989-01-05','1989-01-09','1989-01-10','1989-01-11','1989-01-12','1989-01-13','1989-01-16']\n",
    "                   })\n",
    "df8['MA'] = df8.rolling(window=7).mean()\n",
    "\n",
    "print(df8)"
   ]
  },
  {
   "cell_type": "code",
   "execution_count": 20,
   "id": "e00c667e-86b3-481f-91f9-3f5fefc88f11",
   "metadata": {},
   "outputs": [
    {
     "name": "stdout",
     "output_type": "stream",
     "text": [
      "        Date day_of_week\n",
      "0 2023-01-01      Sunday\n",
      "1 2023-01-02      Monday\n",
      "2 2023-01-03     Tuesday\n",
      "3 2023-01-04   Wednesday\n",
      "4 2023-01-05    Thursday\n"
     ]
    }
   ],
   "source": [
    "# Q11\n",
    "# find day of date\n",
    "\n",
    "\n",
    "import pandas as pd\n",
    "df9 = pd.DataFrame({'Date':['2023-01-01','2023-01-02','2023-01-03','2023-01-04','2023-01-05']})\n",
    "df9['Date'] = pd.to_datetime(df9['Date'])\n",
    "\n",
    "df9['day_of_week'] = df9['Date'].dt.day_name()\n",
    "print(df9)"
   ]
  },
  {
   "cell_type": "code",
   "execution_count": 21,
   "id": "8e26f8d1-0d87-43ef-94e5-26240d99b246",
   "metadata": {},
   "outputs": [
    {
     "name": "stdout",
     "output_type": "stream",
     "text": [
      "           0       date\n",
      "1   0.013896 2023-01-02\n",
      "2   0.328699 2023-01-03\n",
      "3   0.978271 2023-01-04\n",
      "4   0.805572 2023-01-05\n",
      "5   0.029914 2023-01-06\n",
      "6   0.482367 2023-01-07\n",
      "7   0.101871 2023-01-08\n",
      "8   0.697134 2023-01-09\n",
      "9   0.918560 2023-01-10\n",
      "10  0.372822 2023-01-11\n",
      "11  0.202944 2023-01-12\n",
      "12  0.467894 2023-01-13\n",
      "13  0.387479 2023-01-14\n",
      "14  0.617762 2023-01-15\n",
      "15  0.069947 2023-01-16\n",
      "16  0.782319 2023-01-17\n",
      "17  0.417822 2023-01-18\n",
      "18  0.713501 2023-01-19\n",
      "19  0.824403 2023-01-20\n",
      "20  0.622075 2023-01-21\n",
      "21  0.225577 2023-01-22\n",
      "22  0.532231 2023-01-23\n",
      "23  0.223451 2023-01-24\n",
      "24  0.511057 2023-01-25\n",
      "25  0.403708 2023-01-26\n",
      "26  0.180044 2023-01-27\n",
      "27  0.443187 2023-01-28\n",
      "28  0.316984 2023-01-29\n",
      "29  0.313807 2023-01-30\n",
      "30  0.199438 2023-01-31\n"
     ]
    }
   ],
   "source": [
    "# Q12\n",
    "\n",
    "import pandas as pd\n",
    "import numpy as np\n",
    "\n",
    "dfe = pd.DataFrame(np.random.random(50))\n",
    "\n",
    "dfe['date'] = pd.date_range('2023-1-1', periods=50)\n",
    "\n",
    "limit = (dfe['date'] > '2023-1-1') & (dfe['date'] <= '2023-1-31')\n",
    "\n",
    "print(dfe.loc[limit])"
   ]
  },
  {
   "cell_type": "code",
   "execution_count": 22,
   "id": "2fc9d994-8c3b-4545-bdb9-5e0f2891466a",
   "metadata": {},
   "outputs": [
    {
     "data": {
      "text/plain": [
       "'To use the basic functions of pandas,\\n   need to import pandas'"
      ]
     },
     "execution_count": 22,
     "metadata": {},
     "output_type": "execute_result"
    }
   ],
   "source": [
    "# Q13\n",
    "'''To use the basic functions of pandas,\n",
    "   need to import pandas'''\n",
    "\n",
    "#Two most basic functions after reading data is to know the number of rows and columns, \n",
    "#and to know the datatype of variables"
   ]
  },
  {
   "cell_type": "code",
   "execution_count": null,
   "id": "351837cd-fce3-4d2a-a458-a1810e565d50",
   "metadata": {},
   "outputs": [],
   "source": []
  },
  {
   "cell_type": "code",
   "execution_count": null,
   "id": "ff096939-dbc9-4466-90e3-67d9427c5805",
   "metadata": {},
   "outputs": [],
   "source": []
  },
  {
   "cell_type": "code",
   "execution_count": null,
   "id": "52f40214-f2ae-4e3b-862a-278f691875f0",
   "metadata": {},
   "outputs": [],
   "source": []
  }
 ],
 "metadata": {
  "kernelspec": {
   "display_name": "Python 3 (ipykernel)",
   "language": "python",
   "name": "python3"
  },
  "language_info": {
   "codemirror_mode": {
    "name": "ipython",
    "version": 3
   },
   "file_extension": ".py",
   "mimetype": "text/x-python",
   "name": "python",
   "nbconvert_exporter": "python",
   "pygments_lexer": "ipython3",
   "version": "3.10.8"
  }
 },
 "nbformat": 4,
 "nbformat_minor": 5
}
